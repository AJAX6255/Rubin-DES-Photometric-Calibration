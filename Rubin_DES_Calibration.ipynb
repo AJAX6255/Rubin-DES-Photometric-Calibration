{
  "nbformat": 4,
  "nbformat_minor": 0,
  "metadata": {
    "colab": {
      "provenance": [],
      "authorship_tag": "ABX9TyPkyaDdVZIP5gh91/YQ+TXE",
      "include_colab_link": true
    },
    "kernelspec": {
      "name": "python3",
      "display_name": "Python 3"
    },
    "language_info": {
      "name": "python"
    }
  },
  "cells": [
    {
      "cell_type": "markdown",
      "metadata": {
        "id": "view-in-github",
        "colab_type": "text"
      },
      "source": [
        "<a href=\"https://colab.research.google.com/github/AJAX6255/Rubin-DES-Photometric-Calibration/blob/main/Rubin_DES_Calibration.ipynb\" target=\"_parent\"><img src=\"https://colab.research.google.com/assets/colab-badge.svg\" alt=\"Open In Colab\"/></a>"
      ]
    },
    {
      "cell_type": "markdown",
      "source": [
        "### (A) Setup and Data Loading"
      ],
      "metadata": {
        "id": "5PuWQZW0Jnqp"
      }
    },
    {
      "cell_type": "code",
      "metadata": {
        "id": "e43221a0"
      },
      "source": [
        "import numpy as np\n",
        "import astropy.units as u\n",
        "from astropy.table import Table, join\n",
        "from astropy.coordinates import SkyCoord\n",
        "\n",
        "print(\"Loading DES data...\")\n",
        "des = Table.read(\"data/DES_DR2_sample.fits\")\n",
        "print(\"DES data loaded successfully.\")\n",
        "display(des[:5])\n",
        "\n",
        "print(\"\\nLoading Rubin data...\")\n",
        "rubin = Table.read(\"data/Rubin_DP1_sample.fits\")\n",
        "print(\"Rubin data loaded successfully.\")\n",
        "display(rubin[:5])\n",
        "\n",
        "print(\"\\nLoading Gaia data...\")\n",
        "gaia = Table.read(\"data/Gaia_DR3_reference.fits\")  # Gaia as astrometric bridge\n",
        "print(\"Gaia data loaded successfully.\")\n",
        "display(gaia[:5])"
      ],
      "execution_count": null,
      "outputs": []
    },
    {
      "cell_type": "markdown",
      "source": [
        "### (B) Cross-Matching with Gaia"
      ],
      "metadata": {
        "id": "582XyvWxKnL_"
      }
    },
    {
      "cell_type": "code",
      "source": [
        "def crossmatch_with_gaia(cat, gaia, radius=0.5*u.arcsec):\n",
        "    # Convert to SkyCoord objects\n",
        "    coord_cat = SkyCoord(cat['RA'], cat['DEC'], unit='deg')\n",
        "    coord_gaia = SkyCoord(gaia['ra'], gaia['dec'], unit='deg')\n",
        "\n",
        "    # Match catalog to Gaia\n",
        "    idx, sep, _ = coord_cat.match_to_catalog_sky(coord_gaia)\n",
        "    matched_cat = cat[sep < radius]\n",
        "\n",
        "    return matched_cat\n",
        "\n",
        "# Example: Match DES and Rubin to Gaia\n",
        "des_matched = crossmatch_with_gaia(des, gaia)\n",
        "rubin_matched = crossmatch_with_gaia(rubin, gaia)"
      ],
      "metadata": {
        "id": "o_pb4VbCKmny"
      },
      "execution_count": null,
      "outputs": []
    },
    {
      "cell_type": "markdown",
      "source": [
        "### (C) Photometric Transformation Fitting"
      ],
      "metadata": {
        "id": "YEse3-SQLISH"
      }
    },
    {
      "cell_type": "code",
      "metadata": {
        "id": "bea33197"
      },
      "source": [
        "from scipy.optimize import curve_fit\n",
        "import warnings\n",
        "\n",
        "def fit_photometric_transform(des_matched, rubin_matched, band):\n",
        "    \"\"\"\n",
        "    Fits a photometric transformation between DES and Rubin magnitudes for a given band.\n",
        "\n",
        "    Args:\n",
        "        des_matched (Table): Astropy Table with DES data matched to Gaia.\n",
        "        rubin_matched (Table): Astropy Table with Rubin data matched to Gaia.\n",
        "        band (str): The photometric band to fit (e.e. 'r', 'g', 'i', etc.).\n",
        "\n",
        "    Returns:\n",
        "        tuple: A tuple containing the optimized parameters (a, b, c) and their covariance matrix.\n",
        "               Returns (None, None) if fitting fails.\n",
        "    \"\"\"\n",
        "    def photometric_transform(mag_des, color_des, a, b, c):\n",
        "        return a * mag_des + b * color_des + c\n",
        "\n",
        "    try:\n",
        "        # Calculate color and magnitude difference for the given band\n",
        "        color_des = des_matched['g_mag'] - des_matched['r_mag'] # Assuming g-r color\n",
        "        mag_diff = rubin_matched[f'{band}_mag'] - des_matched[f'{band}_mag']\n",
        "        mag_des = des_matched[f'{band}_mag']\n",
        "        mag_des_err = des_matched[f'{band}_mag_err']\n",
        "\n",
        "        # Perform the curve fit, ignoring potential warnings\n",
        "        with warnings.catch_warnings():\n",
        "            warnings.simplefilter(\"ignore\")\n",
        "            popt, pcov = curve_fit(photometric_transform,\n",
        "                                   mag_des,\n",
        "                                   mag_diff,\n",
        "                                   sigma=mag_des_err)\n",
        "\n",
        "        print(f\"Fitting for {band}-band:\")\n",
        "        print(f\"Zeropoint: {popt[2]:.3f}, Color term: {popt[1]:.3f}\")\n",
        "        return popt, pcov\n",
        "\n",
        "    except Exception as e:\n",
        "        print(f\"Fitting failed for {band}-band: {e}\")\n",
        "        return None, None\n",
        "\n",
        "# Example usage: Fit for r-band\n",
        "popt_r, pcov_r = fit_photometric_transform(des_matched, rubin_matched, 'r')\n",
        "\n",
        "# Example usage: Fit for g-band\n",
        "# popt_g, pcov_g = fit_photometric_transform(des_matched, rubin_matched, 'g')"
      ],
      "execution_count": null,
      "outputs": []
    },
    {
      "cell_type": "markdown",
      "source": [
        "### (D) Visualization"
      ],
      "metadata": {
        "id": "DX4dDgQBLjPQ"
      }
    },
    {
      "cell_type": "code",
      "source": [
        "import matplotlib.pyplot as plt\n",
        "\n",
        "plt.figure(figsize=(8, 6)) # Optional: Set figure size\n",
        "plt.scatter(des_matched['r_mag'] - des_matched['i_mag'],\n",
        "            rubin_matched['r_mag'] - des_matched['r_mag'],\n",
        "            s=1, alpha=0.5)\n",
        "plt.xlabel(\"DES (r-i)\")\n",
        "plt.ylabel(\"Rubin r - DES r\")\n",
        "plt.title(\"Photometric Transformation: Rubin r vs DES (r-i)\") # Add a title\n",
        "plt.grid(True) # Ensure grid is visible\n",
        "\n",
        "# Optional: Save the plot to a file\n",
        "# plt.savefig(\"photometric_transformation_r_band.png\")\n",
        "\n",
        "plt.show() # Display the plot"
      ],
      "metadata": {
        "id": "hhyS-U3jLn5k"
      },
      "execution_count": null,
      "outputs": []
    }
  ]
}